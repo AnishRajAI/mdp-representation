{
  "nbformat": 4,
  "nbformat_minor": 0,
  "metadata": {
    "colab": {
      "provenance": []
    },
    "kernelspec": {
      "name": "python3",
      "display_name": "Python 3"
    },
    "language_info": {
      "name": "python"
    }
  },
  "cells": [
    {
      "cell_type": "code",
      "execution_count": 1,
      "metadata": {
        "id": "9kzWvoxxvcYY"
      },
      "outputs": [],
      "source": [
        "MDP = {\n",
        "    \"empty code\": {\n",
        "        0: [\n",
        "            {\"probability\": 0.8, \"next_state\": \"empty code\", \"reward\": -1.0, \"done\": False},\n",
        "            {\"probability\": 0.2, \"next_state\": \"half-code\", \"reward\": 0.0, \"done\": False},\n",
        "        ],\n",
        "        1: [\n",
        "            {\"probability\": 0.8, \"next_state\": \"half-code\", \"reward\": 0.0, \"done\": False},\n",
        "            {\"probability\": 0.2, \"next_state\": \"empty code\", \"reward\": -1.0, \"done\": False},\n",
        "        ],\n",
        "    },\n",
        "    \"half-code\": {\n",
        "        0: [\n",
        "            {\"probability\": 0.8, \"next_state\": \"empty code\", \"reward\": -1.0, \"done\": False},\n",
        "            {\"probability\": 0.2, \"next_state\": \"complete code\", \"reward\": 1.0, \"done\": True},\n",
        "        ],\n",
        "        1: [\n",
        "            {\"probability\": 0.8, \"next_state\": \"complete code\", \"reward\": 1.0, \"done\": True},\n",
        "            {\"probability\": 0.2, \"next_state\": \"empty code\", \"reward\": -1.0, \"done\": False},\n",
        "        ],\n",
        "    },\n",
        "    \"complete code\": {\n",
        "        0: [\n",
        "            {\"probability\": 0.8, \"next_state\": \"half-code\", \"reward\": 0.0, \"done\": False},\n",
        "            {\"probability\": 0.2, \"next_state\": \"complete code\", \"reward\": 0.0, \"done\": False},\n",
        "        ],\n",
        "        1: [\n",
        "            {\"probability\": 0.8, \"next_state\": \"complete code\", \"reward\": 0.0, \"done\": False},\n",
        "            {\"probability\": 0.2, \"next_state\": \"half-code\", \"reward\": 0.0, \"done\": False},\n",
        "        ],\n",
        "    }\n",
        "}"
      ]
    },
    {
      "cell_type": "code",
      "source": [
        "MDP"
      ],
      "metadata": {
        "colab": {
          "base_uri": "https://localhost:8080/"
        },
        "id": "2Ch7sV0Gvdte",
        "outputId": "df3c3613-cc92-4717-df19-452a27ddb18a"
      },
      "execution_count": 2,
      "outputs": [
        {
          "output_type": "execute_result",
          "data": {
            "text/plain": [
              "{'empty code': {0: [{'probability': 0.8,\n",
              "    'next_state': 'empty code',\n",
              "    'reward': -1.0,\n",
              "    'done': False},\n",
              "   {'probability': 0.2,\n",
              "    'next_state': 'half-code',\n",
              "    'reward': 0.0,\n",
              "    'done': False}],\n",
              "  1: [{'probability': 0.8,\n",
              "    'next_state': 'half-code',\n",
              "    'reward': 0.0,\n",
              "    'done': False},\n",
              "   {'probability': 0.2,\n",
              "    'next_state': 'empty code',\n",
              "    'reward': -1.0,\n",
              "    'done': False}]},\n",
              " 'half-code': {0: [{'probability': 0.8,\n",
              "    'next_state': 'empty code',\n",
              "    'reward': -1.0,\n",
              "    'done': False},\n",
              "   {'probability': 0.2,\n",
              "    'next_state': 'complete code',\n",
              "    'reward': 1.0,\n",
              "    'done': True}],\n",
              "  1: [{'probability': 0.8,\n",
              "    'next_state': 'complete code',\n",
              "    'reward': 1.0,\n",
              "    'done': True},\n",
              "   {'probability': 0.2,\n",
              "    'next_state': 'empty code',\n",
              "    'reward': -1.0,\n",
              "    'done': False}]},\n",
              " 'complete code': {0: [{'probability': 0.8,\n",
              "    'next_state': 'half-code',\n",
              "    'reward': 0.0,\n",
              "    'done': False},\n",
              "   {'probability': 0.2,\n",
              "    'next_state': 'complete code',\n",
              "    'reward': 0.0,\n",
              "    'done': False}],\n",
              "  1: [{'probability': 0.8,\n",
              "    'next_state': 'complete code',\n",
              "    'reward': 0.0,\n",
              "    'done': False},\n",
              "   {'probability': 0.2,\n",
              "    'next_state': 'half-code',\n",
              "    'reward': 0.0,\n",
              "    'done': False}]}}"
            ]
          },
          "metadata": {},
          "execution_count": 2
        }
      ]
    }
  ]
}